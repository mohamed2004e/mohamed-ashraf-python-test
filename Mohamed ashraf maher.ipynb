{
 "cells": [
  {
   "cell_type": "markdown",
   "id": "dfa59bfa",
   "metadata": {},
   "source": [
    "    #mohamed ashraf maher"
   ]
  },
  {
   "cell_type": "code",
   "execution_count": 3,
   "id": "a922ec01",
   "metadata": {},
   "outputs": [],
   "source": [
    "list =[55,0.5,'mango',True ]"
   ]
  },
  {
   "cell_type": "code",
   "execution_count": 4,
   "id": "c1dc2e07",
   "metadata": {},
   "outputs": [
    {
     "data": {
      "text/plain": [
       "[55, 0.5, 'mango', True]"
      ]
     },
     "execution_count": 4,
     "metadata": {},
     "output_type": "execute_result"
    }
   ],
   "source": [
    "list"
   ]
  },
  {
   "cell_type": "code",
   "execution_count": 6,
   "id": "57756ad9",
   "metadata": {},
   "outputs": [],
   "source": [
    "tuple =('science',55,0.2,False)"
   ]
  },
  {
   "cell_type": "code",
   "execution_count": 7,
   "id": "0a0f3128",
   "metadata": {},
   "outputs": [
    {
     "data": {
      "text/plain": [
       "('science', 55, 0.2, False)"
      ]
     },
     "execution_count": 7,
     "metadata": {},
     "output_type": "execute_result"
    }
   ],
   "source": [
    "tuple"
   ]
  },
  {
   "cell_type": "code",
   "execution_count": 8,
   "id": "e66b8674",
   "metadata": {},
   "outputs": [],
   "source": [
    "set={'red',19,0.9,True}"
   ]
  },
  {
   "cell_type": "code",
   "execution_count": 9,
   "id": "69bd9e4f",
   "metadata": {},
   "outputs": [
    {
     "data": {
      "text/plain": [
       "{0.9, 19, True, 'red'}"
      ]
     },
     "execution_count": 9,
     "metadata": {},
     "output_type": "execute_result"
    }
   ],
   "source": [
    "set"
   ]
  },
  {
   "cell_type": "code",
   "execution_count": 10,
   "id": "2768b475",
   "metadata": {},
   "outputs": [],
   "source": [
    "dict={'int':55 ,'float':55.5,'str':'mango','bool':True}"
   ]
  },
  {
   "cell_type": "code",
   "execution_count": 11,
   "id": "b6fadd5e",
   "metadata": {},
   "outputs": [
    {
     "data": {
      "text/plain": [
       "{'int': 55, 'float': 55.5, 'str': 'mango', 'bool': True}"
      ]
     },
     "execution_count": 11,
     "metadata": {},
     "output_type": "execute_result"
    }
   ],
   "source": [
    "dict"
   ]
  }
 ],
 "metadata": {
  "kernelspec": {
   "display_name": "Python 3 (ipykernel)",
   "language": "python",
   "name": "python3"
  },
  "language_info": {
   "codemirror_mode": {
    "name": "ipython",
    "version": 3
   },
   "file_extension": ".py",
   "mimetype": "text/x-python",
   "name": "python",
   "nbconvert_exporter": "python",
   "pygments_lexer": "ipython3",
   "version": "3.11.3"
  }
 },
 "nbformat": 4,
 "nbformat_minor": 5
}
